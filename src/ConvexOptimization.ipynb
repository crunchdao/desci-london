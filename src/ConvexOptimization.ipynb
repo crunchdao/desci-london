{
 "cells": [
  {
   "cell_type": "code",
   "execution_count": 148,
   "metadata": {},
   "outputs": [],
   "source": [
    "import matplotlib.pyplot as plt\n",
    "import numpy as np\n",
    "import pandas as pd\n",
    "import cvxpy as cp\n",
    "\n",
    "import tensorflow as tf\n",
    "\n",
    "from tensorflow import keras\n",
    "from tensorflow.keras import layers"
   ]
  },
  {
   "cell_type": "code",
   "execution_count": 149,
   "metadata": {},
   "outputs": [],
   "source": [
    "features = pd.read_parquet('../data/features.parquet')\n",
    "target = pd.read_parquet('../data/target.parquet')\n",
    "model = tf.keras.models.load_model('../data/model')"
   ]
  },
  {
   "cell_type": "code",
   "execution_count": 150,
   "metadata": {},
   "outputs": [],
   "source": [
    "dataset = pd.concat([features, target], axis=1)\n",
    "\n",
    "train_dataset = dataset.sample(frac=0.8, random_state=0)\n",
    "test_dataset = dataset.drop(train_dataset.index)\n",
    "\n",
    "test_features = test_dataset.iloc[:, :-1]"
   ]
  },
  {
   "cell_type": "code",
   "execution_count": 151,
   "metadata": {},
   "outputs": [
    {
     "name": "stdout",
     "output_type": "stream",
     "text": [
      "1600/1600 [==============================] - 1s 656us/step\n"
     ]
    }
   ],
   "source": [
    "y_hat = np.ravel(model.predict(test_features))"
   ]
  },
  {
   "cell_type": "code",
   "execution_count": 152,
   "metadata": {},
   "outputs": [
    {
     "data": {
      "text/plain": [
       "array([-0.43283874,  0.48970807,  0.83019984,  0.40261364,  0.29658794,\n",
       "        0.15195572,  0.09818959,  0.04367673, -0.00445998,  0.09431076],\n",
       "      dtype=float32)"
      ]
     },
     "execution_count": 152,
     "metadata": {},
     "output_type": "execute_result"
    }
   ],
   "source": [
    "Y = y_hat[:10]\n",
    "Y"
   ]
  },
  {
   "cell_type": "code",
   "execution_count": 153,
   "metadata": {},
   "outputs": [],
   "source": [
    "n = len(Y)\n",
    "w = cp.Variable(n)"
   ]
  },
  {
   "cell_type": "code",
   "execution_count": 154,
   "metadata": {},
   "outputs": [
    {
     "data": {
      "text/plain": [
       "array([[ 3.14159265,  0.        ,  0.        ,  0.        ,  0.        ,\n",
       "         0.        ,  0.        ,  0.        ,  0.        , 42.        ],\n",
       "       [ 0.        ,  1.        ,  0.        ,  0.        ,  0.        ,\n",
       "         0.        ,  0.        ,  0.        ,  0.        , 42.        ],\n",
       "       [ 0.        ,  0.        ,  1.        ,  0.        ,  0.        ,\n",
       "         0.        ,  0.        ,  0.        ,  0.        , 42.        ],\n",
       "       [ 0.        ,  0.        ,  0.        ,  1.        ,  0.        ,\n",
       "         0.        ,  0.        ,  0.        ,  0.        , 42.        ],\n",
       "       [ 0.        ,  0.        ,  0.        ,  0.        ,  1.        ,\n",
       "         0.        ,  0.        ,  0.        ,  0.        , 42.        ],\n",
       "       [ 0.        ,  0.        ,  0.        ,  0.        ,  0.        ,\n",
       "         1.        ,  0.        ,  0.        ,  0.        , 42.        ],\n",
       "       [ 0.        ,  0.        ,  0.        ,  0.        ,  0.        ,\n",
       "         0.        ,  1.        ,  0.        ,  0.        , 42.        ],\n",
       "       [ 0.        ,  0.        ,  0.        ,  0.        ,  0.        ,\n",
       "         0.        ,  0.        ,  1.        ,  0.        , 42.        ],\n",
       "       [ 0.        ,  0.        ,  0.        ,  0.        ,  0.        ,\n",
       "         0.        ,  0.        ,  0.        ,  1.        , 42.        ],\n",
       "       [ 0.        ,  0.        ,  0.        ,  0.        ,  0.        ,\n",
       "         0.        ,  0.        ,  0.        ,  0.        , 42.        ]])"
      ]
     },
     "execution_count": 154,
     "metadata": {},
     "output_type": "execute_result"
    }
   ],
   "source": [
    "B = np.identity(n)\n",
    "B[0,0] = np.pi\n",
    "B[:, -1] = 42\n",
    "B"
   ]
  },
  {
   "cell_type": "code",
   "execution_count": 155,
   "metadata": {},
   "outputs": [],
   "source": [
    "obj = cp.Maximize(w @ Y)\n",
    "\n",
    "constraints = [\n",
    "    cp.sum(w) == 1,\n",
    "    cp.norm(w, 1) <= 100,\n",
    "    cp.norm(w, \"inf\") <= 0.2,\n",
    "    cp.norm(B @ w) <= 5.0,\n",
    "]\n",
    "\n",
    "prob = cp.Problem(obj, constraints)"
   ]
  },
  {
   "cell_type": "code",
   "execution_count": 156,
   "metadata": {},
   "outputs": [
    {
     "name": "stdout",
     "output_type": "stream",
     "text": [
      "===============================================================================\n",
      "                                     CVXPY                                     \n",
      "                                     v1.3.0                                    \n",
      "===============================================================================\n",
      "(CVXPY) Jan 14 01:58:33 PM: Your problem has 10 variables, 4 constraints, and 0 parameters.\n",
      "(CVXPY) Jan 14 01:58:33 PM: It is compliant with the following grammars: DCP, DQCP\n",
      "(CVXPY) Jan 14 01:58:33 PM: (If you need to solve this problem multiple times, but with different data, consider using parameters.)\n",
      "(CVXPY) Jan 14 01:58:33 PM: CVXPY will first compile your problem; then, it will invoke a numerical solver to obtain a solution.\n",
      "-------------------------------------------------------------------------------\n",
      "                                  Compilation                                  \n",
      "-------------------------------------------------------------------------------\n",
      "(CVXPY) Jan 14 01:58:33 PM: Compiling problem (target solver=ECOS).\n",
      "(CVXPY) Jan 14 01:58:33 PM: Reduction chain: FlipObjective -> Dcp2Cone -> CvxAttr2Constr -> ConeMatrixStuffing -> ECOS\n",
      "(CVXPY) Jan 14 01:58:33 PM: Applying reduction FlipObjective\n",
      "(CVXPY) Jan 14 01:58:33 PM: Applying reduction Dcp2Cone\n",
      "(CVXPY) Jan 14 01:58:33 PM: Applying reduction CvxAttr2Constr\n",
      "(CVXPY) Jan 14 01:58:33 PM: Applying reduction ConeMatrixStuffing\n",
      "(CVXPY) Jan 14 01:58:33 PM: Applying reduction ECOS\n",
      "(CVXPY) Jan 14 01:58:33 PM: Finished problem compilation (took 1.339e-02 seconds).\n",
      "-------------------------------------------------------------------------------\n",
      "                                Numerical solver                               \n",
      "-------------------------------------------------------------------------------\n",
      "(CVXPY) Jan 14 01:58:33 PM: Invoking solver ECOS  to obtain a solution.\n",
      "690e-01  -2.289e+00  +5e+00  7e-04  4e-02  7e-02  1e-01  0.5997  9e-03   1  1  1 |  0  0\n",
      " 5  -3.997e-01  -2.558e+00  +5e+00  7e-04  4e-02  7e-02  1e-01  0.0517  9e-01   1  1  1 |  0  0\n",
      " 6  -4.178e-01  -9.851e-01  +2e+00  2e-04  2e-02  2e-02  3e-02  0.7225  2e-03   1  1  1 |  0  0\n",
      " 7  -5.359e-01  -1.034e+00  +1e+00  2e-04  1e-02  2e-02  3e-02  0.4127  7e-01   1  1  1 |  0  0\n",
      " 8  -5.419e-01  -5.700e-01  +8e-02  9e-06  1e-03  1e-03  2e-03  0.9715  3e-02   1  1  1 |  0  0\n",
      " 9  -5.480e-01  -5.584e-01  +3e-02  4e-06  4e-04  4e-04  6e-04  0.6433  3e-02   1  1  1 |  0  0\n",
      "10  -5.517e-01  -5.521e-01  +1e-03  1e-07  2e-05  2e-05  3e-05  0.9890  3e-02   1  1  1 |  0  0\n",
      "11  -5.519e-01  -5.519e-01  +1e-05  2e-09  2e-07  2e-07  3e-07  0.9890  1e-04   1  1  1 |  0  0\n",
      "12  -5.519e-01  -5.519e-01  +2e-07  2e-11  2e-09  2e-09  4e-09  0.9876  1e-04   1  1  1 |  0  0\n",
      "13  -5.519e-01  -5.519e-01  +3e-09  3e-13  4e-11  4e-11  6e-11  0.9829  1e-04   1  1  1 |  0  0\n",
      "\n",
      "OPTIMAL (within feastol=3.9e-11, reltol=4.8e-0-------------------------------------------------------------------------------\n",
      "                                    Summary                                    \n",
      "-------------------------------------------------------------------------------\n",
      "(CVXPY) Jan 14 01:58:33 PM: Problem status: optimal\n",
      "(CVXPY) Jan 14 01:58:33 PM: Optimal value: 5.519e-01\n",
      "(CVXPY) Jan 14 01:58:33 PM: Compilation took 1.339e-02 seconds\n",
      "9, abstol=2.6e-09).\n",
      "Runtime: 0.000384 seconds.\n",
      "\n",
      "\n",
      "ECOS 2.0.10 - (C) embotech GmbH, Zurich Switzerland, 2012-15. Web: www.embotech.com/ECOS\n",
      "\n",
      "It     pcost       dcost      gap   pres   dres    k/t    mu     step   sigma     IR    |   BT\n",
      " 0  -2.028e-01  -1.221e+02  +3e+02  4e-02  2e+00  1e+00  6e+00    ---    ---    1  1  - |  -  - \n",
      " 1  -7.126e-01  -4.972e+01  +1e+02  2e-02  2e+00  6e-01  3e+00  0.6103  6e-02   1  1  1 |  0  0\n",
      " 2  +1.920e-01  -2.777e+01  +6e+01  1e-02  2e-01  1e+00  1e+00  0.7813  4e-01   1  1  1 |  0  0\n",
      " 3  -1.106e-01  -5.742e+00  +1e+01  2e-03  7e-02  2e-01  3e-01  0.7794  1e-03   1  1  1 |  0  0\n",
      " 4  -1.690e-01  -2.289e+00  +5e+00  7e-04  4e-02  7e-02  1e-01  0.5997  9e-03   1  1  1 |  0  0\n",
      " 5  -3.997e-01  -2.558e+00  +5e+00  7e-04  4e-02  7e-02  1e-01  0.0517  9e-01   1  1  1 |  0  0\n",
      " 6  -4.178e-01  -9.851e-01  +2e+00  2e-04  2e-02  2e-02  3e-02  0.7225  2e-03   1  1  1 |  0  0\n",
      " 7  -5.359e-01  -1.034e+00  +1e+00  2e-04  1e-02  2e-02  3e-02  0.4127  7e-01   1  1  1 |  0  0\n",
      " 8  -5.419e-01  -5.700e-01  +8e-02  9e-06  1e-03  1e-03  2e-03  0.9715  3e-02   1  1  1 |  0  0\n",
      " 9  -5.480e-01  -5.584e-01  +3e-02  4e-06  4e-04  4e-04  6e-04  0.6433  3e-02   1  1  1 |  0  0\n",
      "10  -5.517e-01  -5.521e-01  +1e-03  1e-07  2e-05  2e-05  3e-05  0.9890  3e-02   1  1  1 |  0  0\n",
      "11  -5.519e-01  -5.519e-01  +1e-05  2e-09  2e-07  2e-07  3e-07  0.9890  1e-04   1  1  1 |  0  0\n",
      "12  -5.519e-01  -5.519e-01  +2e-07  2e-11  2e-09  2e-09  4e-09  0.9876  1e-04   1  1  1 |  0  0\n",
      "13  -5.519e-01  -5.519e-01  +3e-09  3e-13  4e-11  4e-11  6e-11  0.9829  1e-04   1  1  1 |  0  0\n",
      "\n",
      "OPTIMAL (within feastol=3.9e-11, reltol=4.8e-09, abstol=2.6e-09).\n",
      "Runtime: 0.000366 seconds.\n",
      "\n",
      "\n",
      "ECOS 2.0.10 - (C) embotech GmbH, Zurich Switzerland, 2012-15. Web: www.embotech.com/ECOS\n",
      "\n",
      "It     pcost       dcost      gap   pres   dres    k/t    mu     step   sigma     IR    |   BT\n",
      " 0  -2.028e-01  -1.221e+02  +3e+02  4e-02  2e+00  1e+00  6e+00    ---    ---    1  1  - |  -  - \n",
      " 1  -7.126e-01  -4.972e+01  +1e+02  2e-02  (CVXPY) Jan 14 01:58:33 PM: Solver (including time spent in interface) took 4.661e-04 seconds\n",
      "2e+00  6e-01  3e+00  0.6103  6e-02   1  1  1 |  0  0\n",
      " 2  +1.920e-01  -2.777e+01  +6e+01  1e-02  2e-01  1e+00  1e+00  0.7813  4e-01   1  1  1 |  0  0\n",
      " 3  -1.106e-01  -5.742e+00  +1e+01  2e-03  7e-02  2e-01  3e-01  0.7794  1e-03   1  1  1 |  0  0\n",
      " 4  -1.690e-01  -2.289e+00  +5e+00  7e-04  4e-02  7e-02  1e-01  0.5997  9e-03   1  1  1 |  0  0\n",
      " 5  -3.997e-01  -2.558e+00  +5e+00  7e-04  4e-02  7e-02  1e-01  0.0517  9e-01   1  1  1 |  0  0\n",
      " 6  -4.178e-01  -9.851e-01  +2e+00  2e-04  2e-02  2e-02  3e-02  0.7225  2e-03   1  1  1 |  0  0\n",
      " 7  -5.359e-01  -1.034e+00  +1e+00  2e-04  1e-02  2e-02  3e-02  0.4127  7e-01   1  1  1 |  0  0\n",
      " 8  -5.419e-01  -5.700e-01  +8e-02  9e-06  1e-03  1e-03  2e-03  0.9715  3e-02   1  1  1 |  0  0\n",
      " 9  -5.480e-01  -5.584e-01  +3e-02  4e-06  4e-04  4e-04  6e-04  0.6433  3e-02   1  1  1 |  0  0\n",
      "10  -5.517e-01  -5.521e-01  +1e-03  1e-07  2e-05  2e-05  3e-05  0.9890  3e-02   1  1  1 |  0  0\n",
      "11  -5.519e-01  -5.519e-01  +1e-05  2e-09  2e-07  2e-07  3e-07  0.9890  1e-04   1  1  1 |  0  0\n",
      "12  -5.519e-01  -5.519e-01  +2e-07  2e-11  2e-09  2e-09  4e-09  0.9876  1e-04   1  "
     ]
    },
    {
     "data": {
      "text/plain": [
       "0.5518617971007259"
      ]
     },
     "execution_count": 156,
     "metadata": {},
     "output_type": "execute_result"
    }
   ],
   "source": [
    "prob.solve(verbose=True)"
   ]
  },
  {
   "cell_type": "code",
   "execution_count": 157,
   "metadata": {},
   "outputs": [
    {
     "data": {
      "text/plain": [
       "array([-0.2       ,  0.2       ,  0.2       ,  0.2       ,  0.2       ,\n",
       "        0.2       ,  0.2       ,  0.16413979, -0.2       ,  0.03586021])"
      ]
     },
     "execution_count": 157,
     "metadata": {},
     "output_type": "execute_result"
    }
   ],
   "source": [
    "w.value"
   ]
  },
  {
   "cell_type": "code",
   "execution_count": 161,
   "metadata": {},
   "outputs": [],
   "source": [
    "np.savetxt(\"../data/omega.csv\", w.value, delimiter=\",\")"
   ]
  },
  {
   "cell_type": "code",
   "execution_count": 162,
   "metadata": {},
   "outputs": [
    {
     "data": {
      "image/png": "[encoded data removed]",
      "text/plain": [
       "<Figure size 432x288 with 1 Axes>"
      ]
     },
     "metadata": {
      "needs_background": "light"
     },
     "output_type": "display_data"
    }
   ],
   "source": [
    "plt.hist(w.value, bins=n)\n",
    "plt.grid()\n",
    "plt.savefig('../data/omega.png')"
   ]
  },
  {
   "cell_type": "code",
   "execution_count": null,
   "metadata": {},
   "outputs": [],
   "source": []
  }
 ],
 "metadata": {
  "kernelspec": {
   "display_name": "Python 3 (ipykernel)",
   "language": "python",
   "name": "python3"
  },
  "language_info": {
   "codemirror_mode": {
    "name": "ipython",
    "version": 3
   },
   "file_extension": ".py",
   "mimetype": "text/x-python",
   "name": "python",
   "nbconvert_exporter": "python",
   "pygments_lexer": "ipython3",
   "version": "3.9.6"
  },
  "vscode": {
   "interpreter": {
    "hash": "089b01a02bffe9aaebf7c1d1c15dfcabf0b6eb8680835f8b4303bc7c7964f23e"
   }
  }
 },
 "nbformat": 4,
 "nbformat_minor": 4
}
